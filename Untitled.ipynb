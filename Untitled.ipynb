{
 "cells": [
  {
   "cell_type": "markdown",
   "metadata": {},
   "source": [
    "<h1><center>Compute Statistics from Card Draws</center></h1>"
   ]
  },
  {
   "cell_type": "markdown",
   "metadata": {},
   "source": [
    "## 1. Introduction"
   ]
  },
  {
   "cell_type": "markdown",
   "metadata": {},
   "source": [
    "In this project, a demonstration descriptive statistics covered in Udacity DAND is provided by conducting an experiment dealing with drawing from a deck of playing cards.\n",
    "\n",
    "This is a normal deck of fifty-two cards divided into four suits (spades (♠), hearts (♥), diamonds (♦), and clubs (♣)), each suit containing thirteen cards (Ace, numbers 2-10, and face cards Jack, Queen, and King).\n",
    "\n",
    "A number is assigned to each card by the following rule:\n",
    "The Ace takes a value of 1, numbered cards take the value printed on the card, and the Jack, Queen, and King each take a value of 10."
   ]
  },
  {
   "cell_type": "markdown",
   "metadata": {},
   "source": [
    "## 2. Distribution of Card Values"
   ]
  },
  {
   "cell_type": "markdown",
   "metadata": {},
   "source": [
    "As it was suggested in the rule, I will create 52 cards and assign the value to it. For simplicity, I have numbered each suit from 1-13 (omitted names of cards like ACE, JACK, QUEEN and KING) and assigned the value."
   ]
  },
  {
   "cell_type": "code",
   "execution_count": 74,
   "metadata": {},
   "outputs": [
    {
     "name": "stdout",
     "output_type": "stream",
     "text": [
      "The mean is: 6.53846153846\n",
      "The median is: 7.0\n",
      "The Standard Deviation is: 3.15290792799\n"
     ]
    },
    {
     "data": {
      "image/png": "[encoded data removed]",
      "text/plain": [
       "<matplotlib.figure.Figure at 0x7f7659b54790>"
      ]
     },
     "metadata": {},
     "output_type": "display_data"
    }
   ],
   "source": [
    "import pandas as pd\n",
    "import numpy as np\n",
    "import matplotlib.pyplot as plt\n",
    "import re\n",
    "%matplotlib inline\n",
    "suits = [\"♠\", \"♥\",\"♦\", \"♣\"]  # the 4 categories or suites\n",
    "\n",
    "pack = {}  # the dictionary holding each of 52 cards and it's values\n",
    "\n",
    "for i in suits:\n",
    "    for j in range(1,14):\n",
    "        \n",
    "        if j == 1:  # ACE has value 1\n",
    "            value = 1\n",
    "            card = i + \" \" + \"A\"\n",
    "        elif j > 10:  # all FACE CARDS have value 10\n",
    "            if j == 11:\n",
    "                card = i + \" \" + \"J\"\n",
    "            if j == 12:\n",
    "                card = i + \" \" + \"Q\"\n",
    "            if j == 13:\n",
    "                card = i + \" \" + \"K\"\n",
    "            value = 10\n",
    "        else:\n",
    "            card = i + \" \" + str(j)\n",
    "            value = j  # all numbered cards have value = their card number\n",
    "        pack[card] = value\n",
    "\n",
    "df = pd.DataFrame.from_dict(pack.items())\n",
    "print \"The mean is: \" + str(list(df.mean())[0])  # list()[0] is used to remove prinitng of datatype\n",
    "print \"The median is: \" + str(list(df.median())[0])\n",
    "print \"The Standard Deviation is: \" + str(list(df.std(ddof=0))[0])  # ddof = 0, finds std of Population\n",
    "ax = df.plot(kind=\"hist\");\n",
    "ax.set_xlabel(\"Values\");\n",
    "ax.set_ylabel(\"Frequency\");\n",
    "ax.set_title(\"Fig 1. Frequency of the card values.\\n\\n\");\n",
    "ax.legend(labels=[\"Frequency of Values\"]);"
   ]
  },
  {
   "cell_type": "markdown",
   "metadata": {},
   "source": [
    "## 3. Generate Data"
   ]
  },
  {
   "cell_type": "code",
   "execution_count": null,
   "metadata": {
    "collapsed": true
   },
   "outputs": [],
   "source": [
    "# seed = 2\n",
    "df = pd.read_csv(\"sample.csv\")\n",
    "df[\"sum\"] = 0\n",
    "non_numbered = {\"A\": 1, \"J\":10, \"K\": 10, \"Q\": 10}\n",
    "num = re.compile(r\"^[\\d]+\")\n",
    "face = re.compile(r\"^\\w\")"
   ]
  },
  {
   "cell_type": "code",
   "execution_count": 77,
   "metadata": {},
   "outputs": [
    {
     "data": {
      "text/plain": [
       "'for i in range(0, 30):\\n    s1 = list(df.iloc[i][\"sample1\"])[0]\\n    s2 = list(df.iloc[i][\"sample2\"])[0]\\n    s3 = list(df.iloc[i][\"sample3\"])[0]\\n    if s1 in non_numbered:\\n        s1 = non_numbered[s1]\\n    if s2 in non_numbered:\\n        s2 = non_numbered[s2]\\n    if s3 in non_numbered:\\n        s3 = non_numbered[s3]\\n    df.loc[df.index[i],\\'sum\\'] = int(s1) + int(s2) + int(s3)\\nprint df\\n'"
      ]
     },
     "execution_count": 77,
     "metadata": {},
     "output_type": "execute_result"
    }
   ],
   "source": [
    "\"\"\"for i in range(0, 30):\n",
    "    s1 = list(df.iloc[i][\"sample1\"])[0]\n",
    "    s2 = list(df.iloc[i][\"sample2\"])[0]\n",
    "    s3 = list(df.iloc[i][\"sample3\"])[0]\n",
    "    if s1 in non_numbered:\n",
    "        s1 = non_numbered[s1]\n",
    "    if s2 in non_numbered:\n",
    "        s2 = non_numbered[s2]\n",
    "    if s3 in non_numbered:\n",
    "        s3 = non_numbered[s3]\n",
    "    df.loc[df.index[i],'sum'] = int(s1) + int(s2) + int(s3)\n",
    "print df\n",
    "\"\"\""
   ]
  },
  {
   "cell_type": "code",
   "execution_count": 67,
   "metadata": {},
   "outputs": [
    {
     "data": {
      "image/png": "[encoded data removed]",
      "text/plain": [
       "<matplotlib.figure.Figure at 0x7f7659930d10>"
      ]
     },
     "metadata": {},
     "output_type": "display_data"
    }
   ],
   "source": [
    "ax = df[\"sum\"].plot.hist(bins=np.arange(0,31, 5));\n",
    "ax.set_xlabel(\"Values\");\n",
    "ax.set_ylabel(\"Frequency\");\n",
    "ax.set_title(\"Fig 1. Frequency of the card values.\\n\\n\");\n",
    "ax.legend(labels=[\"Frequency of Values\"]);"
   ]
  },
  {
   "cell_type": "markdown",
   "metadata": {},
   "source": [
    "### 3.1 Measuring Central Tendency\n",
    "#### 3.1.1 Mean"
   ]
  },
  {
   "cell_type": "code",
   "execution_count": 71,
   "metadata": {},
   "outputs": [
    {
     "name": "stdout",
     "output_type": "stream",
     "text": [
      "sum    17.266667\n",
      "dtype: float64\n"
     ]
    }
   ],
   "source": [
    "print df.mean()"
   ]
  },
  {
   "cell_type": "markdown",
   "metadata": {},
   "source": [
    "#### 3.1.2 Median"
   ]
  },
  {
   "cell_type": "code",
   "execution_count": 69,
   "metadata": {},
   "outputs": [
    {
     "name": "stdout",
     "output_type": "stream",
     "text": [
      "sum    18.5\n",
      "dtype: float64\n"
     ]
    }
   ],
   "source": [
    "print df.median()"
   ]
  },
  {
   "cell_type": "markdown",
   "metadata": {},
   "source": [
    "### 3.2 Measuring Variability\n",
    "#### 3.2.1 Standard Deviation"
   ]
  },
  {
   "cell_type": "code",
   "execution_count": 72,
   "metadata": {},
   "outputs": [
    {
     "name": "stdout",
     "output_type": "stream",
     "text": [
      "sum    5.71105\n",
      "dtype: float64\n"
     ]
    }
   ],
   "source": [
    "print df.std()"
   ]
  }
 ],
 "metadata": {
  "kernelspec": {
   "display_name": "Python [conda env:dand_trial_env]",
   "language": "python",
   "name": "conda-env-dand_trial_env-py"
  },
  "language_info": {
   "codemirror_mode": {
    "name": "ipython",
    "version": 2
   },
   "file_extension": ".py",
   "mimetype": "text/x-python",
   "name": "python",
   "nbconvert_exporter": "python",
   "pygments_lexer": "ipython2",
   "version": "2.7.13"
  }
 },
 "nbformat": 4,
 "nbformat_minor": 2
}
